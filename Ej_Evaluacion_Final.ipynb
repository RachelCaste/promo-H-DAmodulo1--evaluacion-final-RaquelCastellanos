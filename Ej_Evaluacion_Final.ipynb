{
 "cells": [
  {
   "cell_type": "markdown",
   "metadata": {},
   "source": [
    "EVALUACIÓN FINAL MÓDULO 1\n",
    "- Raquel Castellanos"
   ]
  },
  {
   "cell_type": "code",
   "execution_count": null,
   "metadata": {},
   "outputs": [],
   "source": [
    "\n"
   ]
  },
  {
   "cell_type": "code",
   "execution_count": 130,
   "metadata": {},
   "outputs": [],
   "source": [
    "class TiendaOnline:\n",
    "    def __init__(self, inventario = [] ,clientes = {}, ventas_totales= float(0)): \n",
    "        self.inventario = inventario\n",
    "        self.clientes= clientes\n",
    "        self.ventas_totales = ventas_totales\n",
    "\n",
    "    def agregar_producto(self, nombre, precio, cantidad):\n",
    "        for producto in self.inventario:\n",
    "            if producto[\"nombre\"] == nombre:\n",
    "                producto[\"cantidad\"] +=cantidad                        \n",
    "                return f\"{nombre} ya existe en tu lista, a {precio}€ y con un total de {cantidad} unidades.\"\n",
    "            \n",
    "           \n",
    "        nuevo_producto = {\"nombre\":nombre , \"precio\":precio, \"cantidad\":cantidad}\n",
    "        self.inventario.append(nuevo_producto)\n",
    "        return f\"Has añadido {nombre}, por {precio}€ con {cantidad} unidades.\"\n",
    "        \n",
    "    \n",
    "    def ver_inventario(self):\n",
    "        for productos in self.inventario:\n",
    "            print(f\"nombre: {productos['nombre']}, precio: {productos['precio']}, cantidad: {productos['cantidad']}\")\n",
    "\n",
    "\n",
    "    def buscar_producto(self,nombre):\n",
    "        for producto in self.inventario:\n",
    "            if producto[\"nombre\"] == nombre:\n",
    "                return f\"Nombre: {nombre} , Precio: ${producto['precio']} Cantidad: {producto['cantidad']}\"\n",
    "        \n",
    "        return \"No hay ningun producto por ese nombre.\"\n",
    "\n",
    "    def actualizar_stock(self, nombre, cantidad):\n",
    "        for producto in self.inventario:\n",
    "            if producto[\"nombre\"] == nombre:\n",
    "                producto[\"cantidad\"] += cantidad\n",
    "                return f\"Ahora hay {producto['cantidad']} unidades de {nombre}\"\n",
    "\n",
    "        return \"No existe ningún producto con ese nombre en el inventario.\"\n",
    "            \n",
    "    \n",
    "    def eliminar_producto(self, nombre):\n",
    "        for producto in self.inventario:\n",
    "            if producto[\"nombre\"] == nombre:\n",
    "                self.inventario.remove(producto)\n",
    "                return  f\"El producto {nombre} ha sido eliminado del inventario.\"\n",
    "            \n",
    "        return \"No hay ningún producto con ese nombre en el inventario.\"\n",
    "\n",
    "    def calcular_valor_inventario(self):\n",
    "        valor_total = 0\n",
    "        for producto in self.inventario:\n",
    "            dicc = producto[\"precio\"]* producto[\"cantidad\"]\n",
    "            valor_total += dicc\n",
    "        return f\"Este es el valor total: {valor_total}\"\n",
    "\n",
    "\n",
    "    \n",
    "    def realizar_compra(self):\n",
    "        shopping= True \n",
    "        carrito_compra = []\n",
    "        coste_total = 0\n",
    "\n",
    "        while shopping:\n",
    "            self.ver_inventario()\n",
    "            compra_user = input(\"¿Qué artículo quieres comprar? \\n\\n\").lower()\n",
    "            cantidad_compra = int(input(f\"Insera un número con la cantidad de {compra_user} que quieres comprar\"))\n",
    "            compra_producto = {}\n",
    "        \n",
    "            for producto in self.inventario: \n",
    "                if producto[\"nombre\"].lower() == compra_user:\n",
    "                    print(f\"\\n\\n Has seleccionado {cantidad_compra} unidades de {compra_user}.\\n\")\n",
    "                    compra_producto = producto\n",
    "                    break  \n",
    "        \n",
    "            if compra_producto == {}:\n",
    "                print(\"No tenemos este producto en nuestro stock\")\n",
    "                continue\n",
    "\n",
    "            carrito_compra.append(compra_producto)\n",
    "            self.actualizar_stock(compra_user, cantidad_compra)\n",
    "            print(f\"\\n Tu carrito contiene: {carrito_compra} \\n\")\n",
    "\n",
    "\n",
    "            coste_total = cantidad_compra* compra_producto[\"precio\"]\n",
    "            print(f\"----> El valor de tu carrito es {coste_total}€ <----- \\n\")\n",
    "\n",
    "            fin_bucle = input(\"Quieres seguir con tu compra? Escribe 'si' o 'no'.\").lower()\n",
    "            if fin_bucle == \"no\":\n",
    "                shopping = False\n",
    "                break"
   ]
  },
  {
   "cell_type": "code",
   "execution_count": 131,
   "metadata": {},
   "outputs": [],
   "source": [
    "inventario = [{'nombre': 'Camisa', 'precio': 20, 'cantidad': 40},{'nombre': 'Pantalón', 'precio': 30, 'cantidad': 30}, {'nombre': 'Zapatos', 'precio': 50, 'cantidad': 40},{'nombre': 'Camisa', 'precio': 20, 'cantidad': 50}]"
   ]
  },
  {
   "cell_type": "code",
   "execution_count": 132,
   "metadata": {},
   "outputs": [],
   "source": [
    "productosTienda = TiendaOnline(inventario,{})"
   ]
  },
  {
   "cell_type": "code",
   "execution_count": 133,
   "metadata": {},
   "outputs": [
    {
     "data": {
      "text/plain": [
       "'Has añadido Pendientes, por 5€ con 98 unidades.'"
      ]
     },
     "execution_count": 133,
     "metadata": {},
     "output_type": "execute_result"
    }
   ],
   "source": [
    "#4 Agrego nuevo producto:\n",
    "productosTienda.agregar_producto(\"Pendientes\", 5, 98)"
   ]
  },
  {
   "cell_type": "code",
   "execution_count": 134,
   "metadata": {},
   "outputs": [
    {
     "data": {
      "text/plain": [
       "'Zapatos ya existe en tu lista, a 33€ y con un total de 521 unidades.'"
      ]
     },
     "execution_count": 134,
     "metadata": {},
     "output_type": "execute_result"
    }
   ],
   "source": [
    "#5 Agrego producto existente, actualizando su cantidad con un nuevo valor:\n",
    "productosTienda.agregar_producto(\"Zapatos\", 33, 521)"
   ]
  },
  {
   "cell_type": "code",
   "execution_count": 135,
   "metadata": {},
   "outputs": [
    {
     "data": {
      "text/plain": [
       "[{'nombre': 'Camisa', 'precio': 20, 'cantidad': 40},\n",
       " {'nombre': 'Pantalón', 'precio': 30, 'cantidad': 30},\n",
       " {'nombre': 'Zapatos', 'precio': 50, 'cantidad': 561},\n",
       " {'nombre': 'Camisa', 'precio': 20, 'cantidad': 50},\n",
       " {'nombre': 'Pendientes', 'precio': 5, 'cantidad': 98}]"
      ]
     },
     "execution_count": 135,
     "metadata": {},
     "output_type": "execute_result"
    }
   ],
   "source": [
    "inventario"
   ]
  },
  {
   "cell_type": "code",
   "execution_count": 136,
   "metadata": {},
   "outputs": [
    {
     "name": "stdout",
     "output_type": "stream",
     "text": [
      "nombre: Camisa, precio: 20, cantidad: 40\n",
      "nombre: Pantalón, precio: 30, cantidad: 30\n",
      "nombre: Zapatos, precio: 50, cantidad: 561\n",
      "nombre: Camisa, precio: 20, cantidad: 50\n",
      "nombre: Pendientes, precio: 5, cantidad: 98\n"
     ]
    }
   ],
   "source": [
    "#5 Veo inventario y detalles:\n",
    "productosTienda.ver_inventario()"
   ]
  },
  {
   "cell_type": "code",
   "execution_count": 137,
   "metadata": {},
   "outputs": [
    {
     "data": {
      "text/plain": [
       "'Nombre: Pendientes , Precio: $5 Cantidad: 98'"
      ]
     },
     "execution_count": 137,
     "metadata": {},
     "output_type": "execute_result"
    }
   ],
   "source": [
    "#6 Busco un producto en el inventario y muestros sus detalles. El nombre del producto es el parámentro.\n",
    "productosTienda.buscar_producto(\"Pendientes\")\n"
   ]
  },
  {
   "cell_type": "code",
   "execution_count": 138,
   "metadata": {},
   "outputs": [
    {
     "name": "stdout",
     "output_type": "stream",
     "text": [
      "Ahora hay 137 unidades de Pendientes\n"
     ]
    }
   ],
   "source": [
    "#7 Actualizo el stock, con el nombre del producto y cantidad a agregar:\n",
    "print(productosTienda.actualizar_stock(\"Pendientes\", 39))"
   ]
  },
  {
   "cell_type": "code",
   "execution_count": 139,
   "metadata": {},
   "outputs": [
    {
     "name": "stdout",
     "output_type": "stream",
     "text": [
      "Ahora hay 30 unidades de Camisa\n"
     ]
    }
   ],
   "source": [
    "#7 Actualizo el stock, con el nombre del producto y cantidad a quitar:\n",
    "print(productosTienda.actualizar_stock(\"Camisa\", -10))"
   ]
  },
  {
   "cell_type": "code",
   "execution_count": 140,
   "metadata": {},
   "outputs": [
    {
     "data": {
      "text/plain": [
       "'El producto Camisa ha sido eliminado del inventario.'"
      ]
     },
     "execution_count": 140,
     "metadata": {},
     "output_type": "execute_result"
    }
   ],
   "source": [
    "#8 Elimino un producto del inventarios por su nombre:\n",
    "productosTienda.eliminar_producto(\"Camisa\")"
   ]
  },
  {
   "cell_type": "code",
   "execution_count": 141,
   "metadata": {},
   "outputs": [
    {
     "name": "stdout",
     "output_type": "stream",
     "text": [
      "nombre: Pantalón, precio: 30, cantidad: 30\n",
      "nombre: Zapatos, precio: 50, cantidad: 561\n",
      "nombre: Camisa, precio: 20, cantidad: 50\n",
      "nombre: Pendientes, precio: 5, cantidad: 137\n"
     ]
    }
   ],
   "source": [
    "#Reviso el inventario para confirmar que el dicc de Camisas duplicado ha sido eliminado:\n",
    "productosTienda.ver_inventario()"
   ]
  },
  {
   "cell_type": "code",
   "execution_count": 142,
   "metadata": {},
   "outputs": [
    {
     "data": {
      "text/plain": [
       "'Este es el valor total: 30635'"
      ]
     },
     "execution_count": 142,
     "metadata": {},
     "output_type": "execute_result"
    }
   ],
   "source": [
    "#9 Calculo el valor todas de todos los productos de mi inventario.\n",
    "productosTienda.calcular_valor_inventario()"
   ]
  },
  {
   "cell_type": "code",
   "execution_count": 143,
   "metadata": {},
   "outputs": [
    {
     "name": "stdout",
     "output_type": "stream",
     "text": [
      "nombre: Pantalón, precio: 30, cantidad: 30\n",
      "nombre: Zapatos, precio: 50, cantidad: 561\n",
      "nombre: Camisa, precio: 20, cantidad: 50\n",
      "nombre: Pendientes, precio: 5, cantidad: 137\n",
      "\n",
      "\n",
      " Has seleccionado 3 unidades de zapatos.\n",
      "\n",
      "\n",
      " Tu carrito contiene: [{'nombre': 'Zapatos', 'precio': 50, 'cantidad': 561}] \n",
      "\n",
      "----> El valor de tu carrito es 150€ <----- \n",
      "\n",
      "nombre: Pantalón, precio: 30, cantidad: 30\n",
      "nombre: Zapatos, precio: 50, cantidad: 561\n",
      "nombre: Camisa, precio: 20, cantidad: 50\n",
      "nombre: Pendientes, precio: 5, cantidad: 137\n",
      "\n",
      "\n",
      " Has seleccionado 1 unidades de camisa.\n",
      "\n",
      "\n",
      " Tu carrito contiene: [{'nombre': 'Zapatos', 'precio': 50, 'cantidad': 561}, {'nombre': 'Camisa', 'precio': 20, 'cantidad': 50}] \n",
      "\n",
      "----> El valor de tu carrito es 20€ <----- \n",
      "\n"
     ]
    }
   ],
   "source": [
    "#10 Creo interacción con cliente para que seleccione y sepa el coste total de su carrito de compra:\n",
    "\n",
    "productosTienda.realizar_compra()"
   ]
  }
 ],
 "metadata": {
  "kernelspec": {
   "display_name": "Python 3",
   "language": "python",
   "name": "python3"
  },
  "language_info": {
   "codemirror_mode": {
    "name": "ipython",
    "version": 3
   },
   "file_extension": ".py",
   "mimetype": "text/x-python",
   "name": "python",
   "nbconvert_exporter": "python",
   "pygments_lexer": "ipython3",
   "version": "3.8.10"
  }
 },
 "nbformat": 4,
 "nbformat_minor": 2
}
